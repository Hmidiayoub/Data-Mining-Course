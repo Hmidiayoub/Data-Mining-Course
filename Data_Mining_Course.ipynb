{
 "cells": [
  {
   "cell_type": "markdown",
   "id": "692ba95e-ec09-4fad-b928-5001cd27564f",
   "metadata": {},
   "source": [
    "****First : we install dependencies and needed libraries****"
   ]
  },
  {
   "cell_type": "code",
   "execution_count": null,
   "id": "090fa274-6e2a-4dd5-93f2-05cc70fdf028",
   "metadata": {},
   "outputs": [],
   "source": [
    "import numpy as np \n",
    "import pandas as pd\n",
    "import matplotlib.pyplot as plt"
   ]
  },
  {
   "cell_type": "code",
   "execution_count": 2,
   "id": "2991132b-7d3f-42bc-acd6-c6787200f9bd",
   "metadata": {},
   "outputs": [],
   "source": [
    "from pandas import Series, DataFrame"
   ]
  },
  {
   "cell_type": "markdown",
   "id": "d456a338-b40a-48e2-ad67-bc9f404377ae",
   "metadata": {},
   "source": [
    "****1 - Series****"
   ]
  },
  {
   "cell_type": "markdown",
   "id": "33a53cb9-81ea-40f1-b378-b02ab67d6ac6",
   "metadata": {},
   "source": [
    "_Series is a one-dimensional array that consists of : #set of data, #set of labels._ "
   ]
  },
  {
   "cell_type": "code",
   "execution_count": 3,
   "id": "c26f551c-f7f6-4367-bb10-06e128ec6cbd",
   "metadata": {},
   "outputs": [],
   "source": [
    "data = [\"A\", \"B\", \"C\", \"D\", \"E\"]\n",
    "labels = [80, 85, 73, 79, 81]\n",
    "#our series name is \"obj\" and it consists of \"data\" as the set of data and \"labels\" as the set of labels\n",
    "obj = pd.Series(data,labels)"
   ]
  },
  {
   "cell_type": "code",
   "execution_count": 4,
   "id": "543ce6f4-e708-4cec-b6d7-5694c6df5ace",
   "metadata": {},
   "outputs": [],
   "source": [
    "#If the data is stored in a dictionnary we can create Series \n",
    "#out of this dictionnary by separating the data and the labels\n",
    "sdata = {'Ohio': 35000, 'Texas': 71000, 'Oregon': 16000, 'Utah': 5000}\n",
    "Our_series = pd.Series(sdata)"
   ]
  },
  {
   "cell_type": "code",
   "execution_count": 5,
   "id": "4f4559c2-fbcf-4f79-aa8b-f4d7d1359ad4",
   "metadata": {},
   "outputs": [],
   "source": [
    "#We can set the series key as shown bellow, but if pandas detects missing values it ouputs NaN\n",
    "states = states = ['California', 'Ohio', 'Oregon', 'Texas']\n",
    "new_series = pd.Series(sdata, index=states)"
   ]
  },
  {
   "cell_type": "markdown",
   "id": "492bd8ce-ba92-4f59-bded-a1c3e8aabbb1",
   "metadata": {},
   "source": [
    "****2 - Data Frames****"
   ]
  },
  {
   "cell_type": "markdown",
   "id": "467ecd2b-7b49-4c18-92f7-c24251b8aace",
   "metadata": {},
   "source": [
    "_DataFrame is a tabular data structure that contains an ordered set of columns, it has both a row index and a column index.\n",
    "Data in a DataFrame is stored in one or more two-dimensional blocks_"
   ]
  },
  {
   "cell_type": "code",
   "execution_count": 6,
   "id": "f29f87b0-4a44-4701-82e2-02bd82aae28f",
   "metadata": {},
   "outputs": [],
   "source": [
    "data = {'state': ['Ohio', 'Ohio', 'Ohio', 'Nevada', 'Nevada', 'Nevada'],\n",
    "        'year': [2000, 2001, 2002, 2001, 2002, 2003],\n",
    "        'pop': [1.5, 1.7, 3.6, 2.4, 2.9, 3.2]}\n"
   ]
  },
  {
   "cell_type": "code",
   "execution_count": 7,
   "id": "d508f323-1003-4964-85e0-81a44bb667e2",
   "metadata": {},
   "outputs": [],
   "source": [
    "#we create a dataframe from our data and name it \"frame\"\n",
    "frame = pd.DataFrame(data)"
   ]
  },
  {
   "cell_type": "code",
   "execution_count": 8,
   "id": "e44172cb-c5a9-4007-997f-18492745af42",
   "metadata": {},
   "outputs": [
    {
     "data": {
      "text/html": [
       "<div>\n",
       "<style scoped>\n",
       "    .dataframe tbody tr th:only-of-type {\n",
       "        vertical-align: middle;\n",
       "    }\n",
       "\n",
       "    .dataframe tbody tr th {\n",
       "        vertical-align: top;\n",
       "    }\n",
       "\n",
       "    .dataframe thead th {\n",
       "        text-align: right;\n",
       "    }\n",
       "</style>\n",
       "<table border=\"1\" class=\"dataframe\">\n",
       "  <thead>\n",
       "    <tr style=\"text-align: right;\">\n",
       "      <th></th>\n",
       "      <th>state</th>\n",
       "      <th>year</th>\n",
       "      <th>pop</th>\n",
       "    </tr>\n",
       "  </thead>\n",
       "  <tbody>\n",
       "    <tr>\n",
       "      <th>0</th>\n",
       "      <td>Ohio</td>\n",
       "      <td>2000</td>\n",
       "      <td>1.5</td>\n",
       "    </tr>\n",
       "    <tr>\n",
       "      <th>1</th>\n",
       "      <td>Ohio</td>\n",
       "      <td>2001</td>\n",
       "      <td>1.7</td>\n",
       "    </tr>\n",
       "    <tr>\n",
       "      <th>2</th>\n",
       "      <td>Ohio</td>\n",
       "      <td>2002</td>\n",
       "      <td>3.6</td>\n",
       "    </tr>\n",
       "    <tr>\n",
       "      <th>3</th>\n",
       "      <td>Nevada</td>\n",
       "      <td>2001</td>\n",
       "      <td>2.4</td>\n",
       "    </tr>\n",
       "    <tr>\n",
       "      <th>4</th>\n",
       "      <td>Nevada</td>\n",
       "      <td>2002</td>\n",
       "      <td>2.9</td>\n",
       "    </tr>\n",
       "  </tbody>\n",
       "</table>\n",
       "</div>"
      ],
      "text/plain": [
       "    state  year  pop\n",
       "0    Ohio  2000  1.5\n",
       "1    Ohio  2001  1.7\n",
       "2    Ohio  2002  3.6\n",
       "3  Nevada  2001  2.4\n",
       "4  Nevada  2002  2.9"
      ]
     },
     "execution_count": 8,
     "metadata": {},
     "output_type": "execute_result"
    }
   ],
   "source": [
    "frame.head()"
   ]
  },
  {
   "cell_type": "code",
   "execution_count": 9,
   "id": "b2aeaf94-d60e-4fe4-9634-5deeb2138757",
   "metadata": {},
   "outputs": [],
   "source": [
    "#our dataframe will display NaN for every value in \"debt\" column because it treats the column as unknown\n",
    "frame2 = pd.DataFrame(data, index=['one', 'two', 'three', 'four','five', 'six'], columns=['state', 'year', 'pop', 'debt'])"
   ]
  },
  {
   "cell_type": "code",
   "execution_count": 10,
   "id": "bbee75f5-fa84-431d-b3fc-4ee46d3b61f3",
   "metadata": {},
   "outputs": [],
   "source": [
    "#here we assign values to column \"debt\"\n",
    "debt_col = frame2[\"debt\"] = ['2000$', '1800$', '3000$', '3500$', '750$', '400$']"
   ]
  },
  {
   "cell_type": "code",
   "execution_count": 11,
   "id": "e4c07360-13bb-4fe5-9eb7-7d8ccb1f18eb",
   "metadata": {},
   "outputs": [
    {
     "data": {
      "text/html": [
       "<div>\n",
       "<style scoped>\n",
       "    .dataframe tbody tr th:only-of-type {\n",
       "        vertical-align: middle;\n",
       "    }\n",
       "\n",
       "    .dataframe tbody tr th {\n",
       "        vertical-align: top;\n",
       "    }\n",
       "\n",
       "    .dataframe thead th {\n",
       "        text-align: right;\n",
       "    }\n",
       "</style>\n",
       "<table border=\"1\" class=\"dataframe\">\n",
       "  <thead>\n",
       "    <tr style=\"text-align: right;\">\n",
       "      <th></th>\n",
       "      <th>state</th>\n",
       "      <th>year</th>\n",
       "      <th>pop</th>\n",
       "      <th>debt</th>\n",
       "    </tr>\n",
       "  </thead>\n",
       "  <tbody>\n",
       "    <tr>\n",
       "      <th>one</th>\n",
       "      <td>False</td>\n",
       "      <td>False</td>\n",
       "      <td>False</td>\n",
       "      <td>False</td>\n",
       "    </tr>\n",
       "    <tr>\n",
       "      <th>two</th>\n",
       "      <td>False</td>\n",
       "      <td>False</td>\n",
       "      <td>False</td>\n",
       "      <td>False</td>\n",
       "    </tr>\n",
       "    <tr>\n",
       "      <th>three</th>\n",
       "      <td>False</td>\n",
       "      <td>False</td>\n",
       "      <td>False</td>\n",
       "      <td>False</td>\n",
       "    </tr>\n",
       "    <tr>\n",
       "      <th>four</th>\n",
       "      <td>False</td>\n",
       "      <td>False</td>\n",
       "      <td>False</td>\n",
       "      <td>False</td>\n",
       "    </tr>\n",
       "    <tr>\n",
       "      <th>five</th>\n",
       "      <td>False</td>\n",
       "      <td>False</td>\n",
       "      <td>False</td>\n",
       "      <td>False</td>\n",
       "    </tr>\n",
       "    <tr>\n",
       "      <th>six</th>\n",
       "      <td>False</td>\n",
       "      <td>False</td>\n",
       "      <td>False</td>\n",
       "      <td>False</td>\n",
       "    </tr>\n",
       "  </tbody>\n",
       "</table>\n",
       "</div>"
      ],
      "text/plain": [
       "       state   year    pop   debt\n",
       "one    False  False  False  False\n",
       "two    False  False  False  False\n",
       "three  False  False  False  False\n",
       "four   False  False  False  False\n",
       "five   False  False  False  False\n",
       "six    False  False  False  False"
      ]
     },
     "execution_count": 11,
     "metadata": {},
     "output_type": "execute_result"
    }
   ],
   "source": [
    "#del frame2[\"state\"]\n",
    "pd.isna(frame2)"
   ]
  },
  {
   "cell_type": "markdown",
   "id": "ba389c63-9105-4f9a-ad5b-2376dc284ff6",
   "metadata": {},
   "source": [
    "3 - Nested Dictionaries"
   ]
  },
  {
   "cell_type": "markdown",
   "id": "148c4628-e1fa-484a-843c-391114054c03",
   "metadata": {},
   "source": [
    "Pandas interpret nested dictionnaries as : the outer dictionary key is used as a column, and the inner key is used as a row index"
   ]
  },
  {
   "cell_type": "code",
   "execution_count": 12,
   "id": "9e3eabe4-fe7d-437b-82f8-8ce9c564f029",
   "metadata": {},
   "outputs": [],
   "source": [
    "pop = {'Nevada':{2001:2.4, 2002:2.9}, 'Ohio' : {2000:1.5, 2001:1.7, 2002:3.6}}\n",
    "frame3 = pd.DataFrame(pop)"
   ]
  },
  {
   "cell_type": "code",
   "execution_count": 13,
   "id": "8f912256-4592-48f4-9398-223ce01961dc",
   "metadata": {},
   "outputs": [],
   "source": [
    "#Transpose the dataframe (switch rows and columns)\n",
    "#frame3.T"
   ]
  },
  {
   "cell_type": "code",
   "execution_count": 14,
   "id": "c5876565-1320-4579-885d-6ead51a39f98",
   "metadata": {},
   "outputs": [
    {
     "data": {
      "text/html": [
       "<div>\n",
       "<style scoped>\n",
       "    .dataframe tbody tr th:only-of-type {\n",
       "        vertical-align: middle;\n",
       "    }\n",
       "\n",
       "    .dataframe tbody tr th {\n",
       "        vertical-align: top;\n",
       "    }\n",
       "\n",
       "    .dataframe thead th {\n",
       "        text-align: right;\n",
       "    }\n",
       "</style>\n",
       "<table border=\"1\" class=\"dataframe\">\n",
       "  <thead>\n",
       "    <tr style=\"text-align: right;\">\n",
       "      <th></th>\n",
       "      <th>Ohio</th>\n",
       "    </tr>\n",
       "    <tr>\n",
       "      <th>Nevada</th>\n",
       "      <th></th>\n",
       "    </tr>\n",
       "  </thead>\n",
       "  <tbody>\n",
       "    <tr>\n",
       "      <th>2.4</th>\n",
       "      <td>1</td>\n",
       "    </tr>\n",
       "    <tr>\n",
       "      <th>2.9</th>\n",
       "      <td>1</td>\n",
       "    </tr>\n",
       "  </tbody>\n",
       "</table>\n",
       "</div>"
      ],
      "text/plain": [
       "        Ohio\n",
       "Nevada      \n",
       "2.4        1\n",
       "2.9        1"
      ]
     },
     "execution_count": 14,
     "metadata": {},
     "output_type": "execute_result"
    }
   ],
   "source": [
    "#Here we count the datapoints in our dataframe by grouping them according to an index \"Nevada\"\n",
    "data_grouped = frame3.groupby(\"Nevada\").count()\n",
    "data_grouped"
   ]
  },
  {
   "cell_type": "code",
   "execution_count": 15,
   "id": "1f8321a3-1146-46f2-bee6-c6505733fbf5",
   "metadata": {},
   "outputs": [],
   "source": [
    "#changing the order of the indexes\n",
    "obj = pd.Series([4.5, 7.2, -5.3, 3.6], index=['d', 'b', 'a', 'c'])"
   ]
  },
  {
   "cell_type": "code",
   "execution_count": 16,
   "id": "8164ec11-5c89-4dd3-89ed-b80d2b29e9d6",
   "metadata": {},
   "outputs": [
    {
     "data": {
      "text/plain": [
       "a   -5.3\n",
       "b    7.2\n",
       "c    3.6\n",
       "d    4.5\n",
       "dtype: float64"
      ]
     },
     "execution_count": 16,
     "metadata": {},
     "output_type": "execute_result"
    }
   ],
   "source": [
    "obj.reindex(index=['a', 'b', 'c', 'd'])"
   ]
  },
  {
   "cell_type": "code",
   "execution_count": 17,
   "id": "772d3b3b-6bbf-4977-9870-3ffc9104a343",
   "metadata": {},
   "outputs": [
    {
     "data": {
      "text/html": [
       "<div>\n",
       "<style scoped>\n",
       "    .dataframe tbody tr th:only-of-type {\n",
       "        vertical-align: middle;\n",
       "    }\n",
       "\n",
       "    .dataframe tbody tr th {\n",
       "        vertical-align: top;\n",
       "    }\n",
       "\n",
       "    .dataframe thead th {\n",
       "        text-align: right;\n",
       "    }\n",
       "</style>\n",
       "<table border=\"1\" class=\"dataframe\">\n",
       "  <thead>\n",
       "    <tr style=\"text-align: right;\">\n",
       "      <th></th>\n",
       "      <th>One</th>\n",
       "      <th>Two</th>\n",
       "      <th>Three</th>\n",
       "      <th>Four</th>\n",
       "    </tr>\n",
       "  </thead>\n",
       "  <tbody>\n",
       "    <tr>\n",
       "      <th>Utah</th>\n",
       "      <td>9</td>\n",
       "      <td>10</td>\n",
       "      <td>11</td>\n",
       "      <td>12</td>\n",
       "    </tr>\n",
       "    <tr>\n",
       "      <th>Nevada</th>\n",
       "      <td>13</td>\n",
       "      <td>14</td>\n",
       "      <td>15</td>\n",
       "      <td>16</td>\n",
       "    </tr>\n",
       "  </tbody>\n",
       "</table>\n",
       "</div>"
      ],
      "text/plain": [
       "        One  Two  Three  Four\n",
       "Utah      9   10     11    12\n",
       "Nevada   13   14     15    16"
      ]
     },
     "execution_count": 17,
     "metadata": {},
     "output_type": "execute_result"
    }
   ],
   "source": [
    "year = [[1,2,3,4],[5,6,7,8],[9,10,11,12],[13,14,15,16]]\n",
    "frame4 = pd.DataFrame(year,index=['Ohio', 'Colorado', 'Utah', 'Nevada'], columns=['One', 'Two', 'Three', 'Four'])\n",
    "frame4.drop(index=['Colorado', 'Ohio'])"
   ]
  },
  {
   "cell_type": "code",
   "execution_count": 18,
   "id": "1e70fe44-45ef-4a48-a5ae-5055d6fa00df",
   "metadata": {},
   "outputs": [
    {
     "data": {
      "text/html": [
       "<div>\n",
       "<style scoped>\n",
       "    .dataframe tbody tr th:only-of-type {\n",
       "        vertical-align: middle;\n",
       "    }\n",
       "\n",
       "    .dataframe tbody tr th {\n",
       "        vertical-align: top;\n",
       "    }\n",
       "\n",
       "    .dataframe thead th {\n",
       "        text-align: right;\n",
       "    }\n",
       "</style>\n",
       "<table border=\"1\" class=\"dataframe\">\n",
       "  <thead>\n",
       "    <tr style=\"text-align: right;\">\n",
       "      <th></th>\n",
       "      <th>One</th>\n",
       "      <th>Three</th>\n",
       "      <th>Four</th>\n",
       "    </tr>\n",
       "  </thead>\n",
       "  <tbody>\n",
       "    <tr>\n",
       "      <th>Ohio</th>\n",
       "      <td>1</td>\n",
       "      <td>3</td>\n",
       "      <td>4</td>\n",
       "    </tr>\n",
       "    <tr>\n",
       "      <th>Colorado</th>\n",
       "      <td>5</td>\n",
       "      <td>7</td>\n",
       "      <td>8</td>\n",
       "    </tr>\n",
       "    <tr>\n",
       "      <th>Utah</th>\n",
       "      <td>9</td>\n",
       "      <td>11</td>\n",
       "      <td>12</td>\n",
       "    </tr>\n",
       "    <tr>\n",
       "      <th>Nevada</th>\n",
       "      <td>13</td>\n",
       "      <td>15</td>\n",
       "      <td>16</td>\n",
       "    </tr>\n",
       "  </tbody>\n",
       "</table>\n",
       "</div>"
      ],
      "text/plain": [
       "          One  Three  Four\n",
       "Ohio        1      3     4\n",
       "Colorado    5      7     8\n",
       "Utah        9     11    12\n",
       "Nevada     13     15    16"
      ]
     },
     "execution_count": 18,
     "metadata": {},
     "output_type": "execute_result"
    }
   ],
   "source": [
    "frame4.drop('Two', axis=1)"
   ]
  },
  {
   "cell_type": "code",
   "execution_count": 19,
   "id": "90154ee3-4c15-46cf-8678-dcad51271658",
   "metadata": {},
   "outputs": [
    {
     "data": {
      "text/plain": [
       "a    0\n",
       "b    1\n",
       "d    3\n",
       "dtype: int32"
      ]
     },
     "execution_count": 19,
     "metadata": {},
     "output_type": "execute_result"
    }
   ],
   "source": [
    "obje = pd.Series(np.arange(4), index=['a', 'b', 'c', 'd'])\n",
    "obje[0:5]\n",
    "obje.iloc[3]\n",
    "obje[['a', 'b', 'd']]"
   ]
  },
  {
   "cell_type": "code",
   "execution_count": 20,
   "id": "7d767906-1030-45a6-9059-2c818a278cae",
   "metadata": {},
   "outputs": [
    {
     "data": {
      "text/plain": [
       "0    False\n",
       "1    False\n",
       "2     True\n",
       "3     True\n",
       "4     True\n",
       "5     True\n",
       "Name: pop, dtype: bool"
      ]
     },
     "execution_count": 20,
     "metadata": {},
     "output_type": "execute_result"
    }
   ],
   "source": [
    "obje2 = frame['pop'] > 2.\n",
    "obje2"
   ]
  },
  {
   "cell_type": "code",
   "execution_count": 21,
   "id": "037e3e01-e343-41e0-b711-553199d9a003",
   "metadata": {},
   "outputs": [
    {
     "data": {
      "text/plain": [
       "year     2002\n",
       "state    Ohio\n",
       "Name: 2, dtype: object"
      ]
     },
     "execution_count": 21,
     "metadata": {},
     "output_type": "execute_result"
    }
   ],
   "source": [
    "#we look for 2 rows \"year\",\"state\" with a condition of one column\"2\"\n",
    "obje3 = frame.loc[2][['year', 'state']]\n",
    "obje3"
   ]
  },
  {
   "cell_type": "code",
   "execution_count": 22,
   "id": "714915a8-a5f7-42a1-afe9-f0579e43cb43",
   "metadata": {},
   "outputs": [
    {
     "data": {
      "text/plain": [
       "a    5.2\n",
       "c    1.1\n",
       "d    NaN\n",
       "e    0.0\n",
       "f    NaN\n",
       "g    NaN\n",
       "dtype: float64"
      ]
     },
     "execution_count": 22,
     "metadata": {},
     "output_type": "execute_result"
    }
   ],
   "source": [
    "s1 = pd.Series([7.3, -2.5, 3.4, 1.5], index=['a', 'c', 'd', 'e'])\n",
    "s2 = pd.Series([-2.1, 3.6, -1.5, 4, 3.1],index=['a', 'c', 'e', 'f', 'g'])\n",
    "s1 + s2"
   ]
  },
  {
   "cell_type": "code",
   "execution_count": 23,
   "id": "17fa67ed-27cc-4af9-acd2-b5c7cd203498",
   "metadata": {},
   "outputs": [
    {
     "data": {
      "text/plain": [
       "a    5.200\n",
       "c    1.100\n",
       "d    5.825\n",
       "e    0.000\n",
       "f    6.425\n",
       "g    5.525\n",
       "dtype: float64"
      ]
     },
     "execution_count": 23,
     "metadata": {},
     "output_type": "execute_result"
    }
   ],
   "source": [
    "# Here we add series(s1) to series(s2) = the same as \"+\"\n",
    "s1.add(s2, fill_value=np.mean(s1))"
   ]
  },
  {
   "cell_type": "code",
   "execution_count": 24,
   "id": "9fa3ca8e-b437-46ae-a5b5-26423e507ba1",
   "metadata": {},
   "outputs": [
    {
     "data": {
      "text/plain": [
       "a    0.136986\n",
       "c   -0.400000\n",
       "d    0.294118\n",
       "e    0.666667\n",
       "dtype: float64"
      ]
     },
     "execution_count": 24,
     "metadata": {},
     "output_type": "execute_result"
    }
   ],
   "source": [
    "# these 2 lines are for division and redivision\n",
    "1 / s1\n",
    "s1.rdiv(1)"
   ]
  },
  {
   "cell_type": "code",
   "execution_count": 25,
   "id": "087110ba-5a47-452f-87c9-ca08bded2c16",
   "metadata": {},
   "outputs": [],
   "source": [
    "dog_info = {\n",
    "    'name': ['Buddy', 'Bella', 'Max', 'Lucy', 'Charlie', 'Daisy', 'Buddy', 'Max'],\n",
    "    'year': [2015, 2017, 2016, 2018, 2015, 2019, 2015, 2016],  # 狗的出生年份\n",
    "    'weight_kg': [7.5, 6.3, 8.0, 5.4, 9.2, 4.8, 7.5, 8.0],  # 狗的体重（单位：千克）\n",
    "    'height_cm': [60, 55, 65, 50, 70, 45, 60, 65],  # 狗的身高（单位：厘米）\n",
    "    'breed': ['Labrador', 'Beagle', 'Bulldog', 'Poodle', 'Golden Retriever', 'Dachshund', 'Labrador', 'Bulldog']  # 狗的品种\n",
    "}\n",
    "dogs = pd.DataFrame(dog_info)"
   ]
  },
  {
   "cell_type": "code",
   "execution_count": 26,
   "id": "6d31cdb1-4573-437a-9a06-76559dfb0fb3",
   "metadata": {},
   "outputs": [
    {
     "data": {
      "text/html": [
       "<div>\n",
       "<style scoped>\n",
       "    .dataframe tbody tr th:only-of-type {\n",
       "        vertical-align: middle;\n",
       "    }\n",
       "\n",
       "    .dataframe tbody tr th {\n",
       "        vertical-align: top;\n",
       "    }\n",
       "\n",
       "    .dataframe thead th {\n",
       "        text-align: right;\n",
       "    }\n",
       "</style>\n",
       "<table border=\"1\" class=\"dataframe\">\n",
       "  <thead>\n",
       "    <tr style=\"text-align: right;\">\n",
       "      <th></th>\n",
       "      <th>height_cm</th>\n",
       "    </tr>\n",
       "  </thead>\n",
       "  <tbody>\n",
       "    <tr>\n",
       "      <th>0</th>\n",
       "      <td>0.60</td>\n",
       "    </tr>\n",
       "    <tr>\n",
       "      <th>1</th>\n",
       "      <td>0.55</td>\n",
       "    </tr>\n",
       "    <tr>\n",
       "      <th>2</th>\n",
       "      <td>0.65</td>\n",
       "    </tr>\n",
       "    <tr>\n",
       "      <th>3</th>\n",
       "      <td>0.50</td>\n",
       "    </tr>\n",
       "    <tr>\n",
       "      <th>4</th>\n",
       "      <td>0.70</td>\n",
       "    </tr>\n",
       "    <tr>\n",
       "      <th>5</th>\n",
       "      <td>0.45</td>\n",
       "    </tr>\n",
       "    <tr>\n",
       "      <th>6</th>\n",
       "      <td>0.60</td>\n",
       "    </tr>\n",
       "    <tr>\n",
       "      <th>7</th>\n",
       "      <td>0.65</td>\n",
       "    </tr>\n",
       "  </tbody>\n",
       "</table>\n",
       "</div>"
      ],
      "text/plain": [
       "   height_cm\n",
       "0       0.60\n",
       "1       0.55\n",
       "2       0.65\n",
       "3       0.50\n",
       "4       0.70\n",
       "5       0.45\n",
       "6       0.60\n",
       "7       0.65"
      ]
     },
     "execution_count": 26,
     "metadata": {},
     "output_type": "execute_result"
    }
   ],
   "source": [
    "#Converting the height column into new column \"height_m\"\n",
    "height_m = dogs[['height_cm']].div(100)\n",
    "height_m"
   ]
  },
  {
   "cell_type": "code",
   "execution_count": 27,
   "id": "665bdcd3-919f-4799-89e4-284297bfc395",
   "metadata": {},
   "outputs": [
    {
     "data": {
      "text/html": [
       "<div>\n",
       "<style scoped>\n",
       "    .dataframe tbody tr th:only-of-type {\n",
       "        vertical-align: middle;\n",
       "    }\n",
       "\n",
       "    .dataframe tbody tr th {\n",
       "        vertical-align: top;\n",
       "    }\n",
       "\n",
       "    .dataframe thead th {\n",
       "        text-align: right;\n",
       "    }\n",
       "</style>\n",
       "<table border=\"1\" class=\"dataframe\">\n",
       "  <thead>\n",
       "    <tr style=\"text-align: right;\">\n",
       "      <th></th>\n",
       "      <th>name</th>\n",
       "      <th>year</th>\n",
       "      <th>weight_kg</th>\n",
       "      <th>height_cm</th>\n",
       "      <th>breed</th>\n",
       "    </tr>\n",
       "  </thead>\n",
       "  <tbody>\n",
       "    <tr>\n",
       "      <th>0</th>\n",
       "      <td>Buddy</td>\n",
       "      <td>2015</td>\n",
       "      <td>7.5</td>\n",
       "      <td>60</td>\n",
       "      <td>Labrador</td>\n",
       "    </tr>\n",
       "    <tr>\n",
       "      <th>1</th>\n",
       "      <td>Bella</td>\n",
       "      <td>2017</td>\n",
       "      <td>6.3</td>\n",
       "      <td>55</td>\n",
       "      <td>Beagle</td>\n",
       "    </tr>\n",
       "    <tr>\n",
       "      <th>2</th>\n",
       "      <td>Max</td>\n",
       "      <td>2016</td>\n",
       "      <td>8.0</td>\n",
       "      <td>65</td>\n",
       "      <td>Bulldog</td>\n",
       "    </tr>\n",
       "    <tr>\n",
       "      <th>3</th>\n",
       "      <td>Lucy</td>\n",
       "      <td>2018</td>\n",
       "      <td>5.4</td>\n",
       "      <td>50</td>\n",
       "      <td>Poodle</td>\n",
       "    </tr>\n",
       "    <tr>\n",
       "      <th>4</th>\n",
       "      <td>Charlie</td>\n",
       "      <td>2015</td>\n",
       "      <td>9.2</td>\n",
       "      <td>70</td>\n",
       "      <td>Golden Retriever</td>\n",
       "    </tr>\n",
       "    <tr>\n",
       "      <th>5</th>\n",
       "      <td>Daisy</td>\n",
       "      <td>2019</td>\n",
       "      <td>4.8</td>\n",
       "      <td>45</td>\n",
       "      <td>Dachshund</td>\n",
       "    </tr>\n",
       "  </tbody>\n",
       "</table>\n",
       "</div>"
      ],
      "text/plain": [
       "      name  year  weight_kg  height_cm             breed\n",
       "0    Buddy  2015        7.5         60          Labrador\n",
       "1    Bella  2017        6.3         55            Beagle\n",
       "2      Max  2016        8.0         65           Bulldog\n",
       "3     Lucy  2018        5.4         50            Poodle\n",
       "4  Charlie  2015        9.2         70  Golden Retriever\n",
       "5    Daisy  2019        4.8         45         Dachshund"
      ]
     },
     "execution_count": 27,
     "metadata": {},
     "output_type": "execute_result"
    }
   ],
   "source": [
    "#Here we remove duplicates from two columns of our dataframe : \"name\", \"breed\"  \n",
    "dogs.drop_duplicates(subset=['name','breed'])"
   ]
  },
  {
   "cell_type": "code",
   "execution_count": 28,
   "id": "de671d96-e6ce-4d1a-8466-6f698f4adf07",
   "metadata": {},
   "outputs": [
    {
     "data": {
      "text/plain": [
       "array([[ 0,  1,  2,  3],\n",
       "       [ 4,  5,  6,  7],\n",
       "       [ 8,  9, 10, 11]])"
      ]
     },
     "execution_count": 28,
     "metadata": {},
     "output_type": "execute_result"
    }
   ],
   "source": [
    "arr = np.arange(12).reshape(3,4)\n",
    "arr"
   ]
  },
  {
   "cell_type": "code",
   "execution_count": 29,
   "id": "6786b74a-e352-4223-a435-94c74ff02711",
   "metadata": {},
   "outputs": [
    {
     "data": {
      "text/plain": [
       "array([0, 1, 2, 3])"
      ]
     },
     "execution_count": 29,
     "metadata": {},
     "output_type": "execute_result"
    }
   ],
   "source": [
    "arr[0]"
   ]
  },
  {
   "cell_type": "code",
   "execution_count": 30,
   "id": "ec36d98a-84c9-431e-8935-7fc253262f62",
   "metadata": {},
   "outputs": [
    {
     "data": {
      "text/plain": [
       "array([[0, 0, 0, 0],\n",
       "       [4, 4, 4, 4],\n",
       "       [8, 8, 8, 8]])"
      ]
     },
     "execution_count": 30,
     "metadata": {},
     "output_type": "execute_result"
    }
   ],
   "source": [
    "#This is called broadcasting\n",
    "arr-arr[0]"
   ]
  },
  {
   "cell_type": "code",
   "execution_count": 31,
   "id": "53499ad9-0b24-4821-9eb3-4756ff422d6b",
   "metadata": {},
   "outputs": [
    {
     "data": {
      "text/html": [
       "<div>\n",
       "<style scoped>\n",
       "    .dataframe tbody tr th:only-of-type {\n",
       "        vertical-align: middle;\n",
       "    }\n",
       "\n",
       "    .dataframe tbody tr th {\n",
       "        vertical-align: top;\n",
       "    }\n",
       "\n",
       "    .dataframe thead th {\n",
       "        text-align: right;\n",
       "    }\n",
       "</style>\n",
       "<table border=\"1\" class=\"dataframe\">\n",
       "  <thead>\n",
       "    <tr style=\"text-align: right;\">\n",
       "      <th></th>\n",
       "      <th>a</th>\n",
       "      <th>b</th>\n",
       "      <th>d</th>\n",
       "    </tr>\n",
       "  </thead>\n",
       "  <tbody>\n",
       "    <tr>\n",
       "      <th>Nevada</th>\n",
       "      <td>0</td>\n",
       "      <td>1</td>\n",
       "      <td>2</td>\n",
       "    </tr>\n",
       "    <tr>\n",
       "      <th>Texas</th>\n",
       "      <td>3</td>\n",
       "      <td>4</td>\n",
       "      <td>5</td>\n",
       "    </tr>\n",
       "    <tr>\n",
       "      <th>Ohio</th>\n",
       "      <td>6</td>\n",
       "      <td>7</td>\n",
       "      <td>8</td>\n",
       "    </tr>\n",
       "    <tr>\n",
       "      <th>Oregon</th>\n",
       "      <td>9</td>\n",
       "      <td>10</td>\n",
       "      <td>11</td>\n",
       "    </tr>\n",
       "  </tbody>\n",
       "</table>\n",
       "</div>"
      ],
      "text/plain": [
       "        a   b   d\n",
       "Nevada  0   1   2\n",
       "Texas   3   4   5\n",
       "Ohio    6   7   8\n",
       "Oregon  9  10  11"
      ]
     },
     "execution_count": 31,
     "metadata": {},
     "output_type": "execute_result"
    }
   ],
   "source": [
    "arange_frame = pd.DataFrame(np.arange(12).reshape(4,3), columns=list('abd'), index=['Nevada', 'Texas', 'Ohio', 'Oregon'])\n",
    "arange_frame    "
   ]
  },
  {
   "cell_type": "markdown",
   "id": "e6c433f5-8d89-4e4f-94a9-f3b5461a7f4b",
   "metadata": {},
   "source": [
    "Both \"**_loc_**\":any data item,  and \"**_iloc_**\":just id(integers) are for specifying certain columns or rows to display "
   ]
  },
  {
   "cell_type": "code",
   "execution_count": 32,
   "id": "4435fc76-756d-487c-a655-903686b06ef5",
   "metadata": {},
   "outputs": [
    {
     "data": {
      "text/html": [
       "<div>\n",
       "<style scoped>\n",
       "    .dataframe tbody tr th:only-of-type {\n",
       "        vertical-align: middle;\n",
       "    }\n",
       "\n",
       "    .dataframe tbody tr th {\n",
       "        vertical-align: top;\n",
       "    }\n",
       "\n",
       "    .dataframe thead th {\n",
       "        text-align: right;\n",
       "    }\n",
       "</style>\n",
       "<table border=\"1\" class=\"dataframe\">\n",
       "  <thead>\n",
       "    <tr style=\"text-align: right;\">\n",
       "      <th></th>\n",
       "      <th>a</th>\n",
       "      <th>b</th>\n",
       "      <th>d</th>\n",
       "    </tr>\n",
       "  </thead>\n",
       "  <tbody>\n",
       "    <tr>\n",
       "      <th>Nevada</th>\n",
       "      <td>0</td>\n",
       "      <td>0</td>\n",
       "      <td>0</td>\n",
       "    </tr>\n",
       "    <tr>\n",
       "      <th>Texas</th>\n",
       "      <td>3</td>\n",
       "      <td>3</td>\n",
       "      <td>3</td>\n",
       "    </tr>\n",
       "    <tr>\n",
       "      <th>Ohio</th>\n",
       "      <td>6</td>\n",
       "      <td>6</td>\n",
       "      <td>6</td>\n",
       "    </tr>\n",
       "    <tr>\n",
       "      <th>Oregon</th>\n",
       "      <td>9</td>\n",
       "      <td>9</td>\n",
       "      <td>9</td>\n",
       "    </tr>\n",
       "  </tbody>\n",
       "</table>\n",
       "</div>"
      ],
      "text/plain": [
       "        a  b  d\n",
       "Nevada  0  0  0\n",
       "Texas   3  3  3\n",
       "Ohio    6  6  6\n",
       "Oregon  9  9  9"
      ]
     },
     "execution_count": 32,
     "metadata": {},
     "output_type": "execute_result"
    }
   ],
   "source": [
    "series = arange_frame.iloc[0]\n",
    "arange_frame - series"
   ]
  },
  {
   "cell_type": "code",
   "execution_count": 33,
   "id": "e4daf6f1-6ae4-4157-9b9f-f5fafbc9aa68",
   "metadata": {},
   "outputs": [
    {
     "data": {
      "text/plain": [
       "a   -4991\n",
       "b   -4990\n",
       "d   -4989\n",
       "Name: Oregon, dtype: int32"
      ]
     },
     "execution_count": 33,
     "metadata": {},
     "output_type": "execute_result"
    }
   ],
   "source": [
    "for i in range(len(arange_frame)):\n",
    "    sub_frame = arange_frame.iloc[i] - Our_series.iloc[i]\n",
    "sub_frame"
   ]
  },
  {
   "cell_type": "code",
   "execution_count": 34,
   "id": "276b44d1-4640-4b7c-a320-7459215a902f",
   "metadata": {},
   "outputs": [
    {
     "data": {
      "text/plain": [
       "breed\n",
       "Labrador            0.250\n",
       "Bulldog             0.250\n",
       "Beagle              0.125\n",
       "Poodle              0.125\n",
       "Golden Retriever    0.125\n",
       "Dachshund           0.125\n",
       "Name: proportion, dtype: float64"
      ]
     },
     "execution_count": 34,
     "metadata": {},
     "output_type": "execute_result"
    }
   ],
   "source": [
    "breeds = dogs['breed']\n",
    "normalized_breeds = breeds.value_counts(normalize=True)\n",
    "normalized_breeds"
   ]
  },
  {
   "cell_type": "code",
   "execution_count": 35,
   "id": "8d4b326b-57bb-452b-bee2-85f7381afc29",
   "metadata": {},
   "outputs": [],
   "source": [
    "df = pd.DataFrame({'key1' : ['a', 'a', 'b', 'b', 'a'],'key2' : ['one', 'two', 'one', 'two', 'one'],\n",
    "                   'data1' : np.random.randn(5),'data2' : np.random.randn(5)})"
   ]
  },
  {
   "cell_type": "code",
   "execution_count": 36,
   "id": "8618a7fd-f55c-4262-9115-37c1c8edd61b",
   "metadata": {},
   "outputs": [
    {
     "data": {
      "text/plain": [
       "key1\n",
       "a    0.248506\n",
       "b   -0.542449\n",
       "Name: data1, dtype: float64"
      ]
     },
     "execution_count": 36,
     "metadata": {},
     "output_type": "execute_result"
    }
   ],
   "source": [
    "grouped_data = df.groupby('key1')['data1'].mean()\n",
    "grouped_data"
   ]
  },
  {
   "cell_type": "code",
   "execution_count": 37,
   "id": "eb92d1c8-abf4-4528-a05e-b6802f3310ec",
   "metadata": {},
   "outputs": [
    {
     "data": {
      "text/plain": [
       "key1  key2\n",
       "a     one     2\n",
       "      two     1\n",
       "b     one     1\n",
       "      two     1\n",
       "dtype: int64"
      ]
     },
     "execution_count": 37,
     "metadata": {},
     "output_type": "execute_result"
    }
   ],
   "source": [
    "df.groupby(['key1', 'key2']).size()"
   ]
  },
  {
   "cell_type": "code",
   "execution_count": 38,
   "id": "c4bb44e8-5a7d-40c1-8b87-e2f79d1a5359",
   "metadata": {},
   "outputs": [
    {
     "data": {
      "text/html": [
       "<div>\n",
       "<style scoped>\n",
       "    .dataframe tbody tr th:only-of-type {\n",
       "        vertical-align: middle;\n",
       "    }\n",
       "\n",
       "    .dataframe tbody tr th {\n",
       "        vertical-align: top;\n",
       "    }\n",
       "\n",
       "    .dataframe thead th {\n",
       "        text-align: right;\n",
       "    }\n",
       "</style>\n",
       "<table border=\"1\" class=\"dataframe\">\n",
       "  <thead>\n",
       "    <tr style=\"text-align: right;\">\n",
       "      <th></th>\n",
       "      <th>data1</th>\n",
       "    </tr>\n",
       "    <tr>\n",
       "      <th>key1</th>\n",
       "      <th></th>\n",
       "    </tr>\n",
       "  </thead>\n",
       "  <tbody>\n",
       "    <tr>\n",
       "      <th>a</th>\n",
       "      <td>0.248506</td>\n",
       "    </tr>\n",
       "    <tr>\n",
       "      <th>b</th>\n",
       "      <td>-0.542449</td>\n",
       "    </tr>\n",
       "  </tbody>\n",
       "</table>\n",
       "</div>"
      ],
      "text/plain": [
       "         data1\n",
       "key1          \n",
       "a     0.248506\n",
       "b    -0.542449"
      ]
     },
     "execution_count": 38,
     "metadata": {},
     "output_type": "execute_result"
    }
   ],
   "source": [
    "df.pivot_table('data1', index='key1')"
   ]
  },
  {
   "cell_type": "code",
   "execution_count": 39,
   "id": "22e5affd-2265-4529-8b84-c3740b8975f2",
   "metadata": {},
   "outputs": [
    {
     "data": {
      "text/html": [
       "<div>\n",
       "<style scoped>\n",
       "    .dataframe tbody tr th:only-of-type {\n",
       "        vertical-align: middle;\n",
       "    }\n",
       "\n",
       "    .dataframe tbody tr th {\n",
       "        vertical-align: top;\n",
       "    }\n",
       "\n",
       "    .dataframe thead tr th {\n",
       "        text-align: left;\n",
       "    }\n",
       "\n",
       "    .dataframe thead tr:last-of-type th {\n",
       "        text-align: right;\n",
       "    }\n",
       "</style>\n",
       "<table border=\"1\" class=\"dataframe\">\n",
       "  <thead>\n",
       "    <tr>\n",
       "      <th></th>\n",
       "      <th colspan=\"5\" halign=\"left\">mean</th>\n",
       "      <th colspan=\"5\" halign=\"left\">median</th>\n",
       "    </tr>\n",
       "    <tr>\n",
       "      <th>data2</th>\n",
       "      <th>-0.485042</th>\n",
       "      <th>-0.215752</th>\n",
       "      <th>-0.153311</th>\n",
       "      <th>-0.130661</th>\n",
       "      <th>0.705842</th>\n",
       "      <th>-0.485042</th>\n",
       "      <th>-0.215752</th>\n",
       "      <th>-0.153311</th>\n",
       "      <th>-0.130661</th>\n",
       "      <th>0.705842</th>\n",
       "    </tr>\n",
       "    <tr>\n",
       "      <th>key1</th>\n",
       "      <th></th>\n",
       "      <th></th>\n",
       "      <th></th>\n",
       "      <th></th>\n",
       "      <th></th>\n",
       "      <th></th>\n",
       "      <th></th>\n",
       "      <th></th>\n",
       "      <th></th>\n",
       "      <th></th>\n",
       "    </tr>\n",
       "  </thead>\n",
       "  <tbody>\n",
       "    <tr>\n",
       "      <th>a</th>\n",
       "      <td>NaN</td>\n",
       "      <td>-0.34815</td>\n",
       "      <td>NaN</td>\n",
       "      <td>1.246344</td>\n",
       "      <td>-0.152676</td>\n",
       "      <td>NaN</td>\n",
       "      <td>-0.34815</td>\n",
       "      <td>NaN</td>\n",
       "      <td>1.246344</td>\n",
       "      <td>-0.152676</td>\n",
       "    </tr>\n",
       "    <tr>\n",
       "      <th>b</th>\n",
       "      <td>-0.028236</td>\n",
       "      <td>NaN</td>\n",
       "      <td>-1.056662</td>\n",
       "      <td>NaN</td>\n",
       "      <td>NaN</td>\n",
       "      <td>-0.028236</td>\n",
       "      <td>NaN</td>\n",
       "      <td>-1.056662</td>\n",
       "      <td>NaN</td>\n",
       "      <td>NaN</td>\n",
       "    </tr>\n",
       "  </tbody>\n",
       "</table>\n",
       "</div>"
      ],
      "text/plain": [
       "           mean                                            median            \\\n",
       "data2 -0.485042 -0.215752 -0.153311 -0.130661  0.705842 -0.485042 -0.215752   \n",
       "key1                                                                          \n",
       "a           NaN  -0.34815       NaN  1.246344 -0.152676       NaN  -0.34815   \n",
       "b     -0.028236       NaN -1.056662       NaN       NaN -0.028236       NaN   \n",
       "\n",
       "                                     \n",
       "data2 -0.153311 -0.130661  0.705842  \n",
       "key1                                 \n",
       "a           NaN  1.246344 -0.152676  \n",
       "b     -1.056662       NaN       NaN  "
      ]
     },
     "execution_count": 39,
     "metadata": {},
     "output_type": "execute_result"
    }
   ],
   "source": [
    "data = df.pivot_table('data1', aggfunc = ['mean', 'median'], index='key1', columns='data2')\n",
    "data"
   ]
  },
  {
   "cell_type": "code",
   "execution_count": 40,
   "id": "d3a6862d-bd74-48b5-8cd7-93b7979a4408",
   "metadata": {},
   "outputs": [
    {
     "data": {
      "text/html": [
       "<div>\n",
       "<style scoped>\n",
       "    .dataframe tbody tr th:only-of-type {\n",
       "        vertical-align: middle;\n",
       "    }\n",
       "\n",
       "    .dataframe tbody tr th {\n",
       "        vertical-align: top;\n",
       "    }\n",
       "\n",
       "    .dataframe thead th {\n",
       "        text-align: right;\n",
       "    }\n",
       "</style>\n",
       "<table border=\"1\" class=\"dataframe\">\n",
       "  <thead>\n",
       "    <tr style=\"text-align: right;\">\n",
       "      <th>key2</th>\n",
       "      <th>one</th>\n",
       "      <th>two</th>\n",
       "    </tr>\n",
       "    <tr>\n",
       "      <th>key1</th>\n",
       "      <th></th>\n",
       "      <th></th>\n",
       "    </tr>\n",
       "  </thead>\n",
       "  <tbody>\n",
       "    <tr>\n",
       "      <th>a</th>\n",
       "      <td>0.546834</td>\n",
       "      <td>-0.348150</td>\n",
       "    </tr>\n",
       "    <tr>\n",
       "      <th>b</th>\n",
       "      <td>-1.056662</td>\n",
       "      <td>-0.028236</td>\n",
       "    </tr>\n",
       "  </tbody>\n",
       "</table>\n",
       "</div>"
      ],
      "text/plain": [
       "key2       one       two\n",
       "key1                    \n",
       "a     0.546834 -0.348150\n",
       "b    -1.056662 -0.028236"
      ]
     },
     "execution_count": 40,
     "metadata": {},
     "output_type": "execute_result"
    }
   ],
   "source": [
    "def create_perspective_table(data, index, columns):\n",
    "    pvt_table = df.pivot_table(data, index = index, columns = columns)\n",
    "    return pvt_table\n",
    "create_perspective_table('data1', index='key1', columns='key2')"
   ]
  },
  {
   "cell_type": "code",
   "execution_count": 41,
   "id": "469725d3-2a7d-457f-b6e4-ea4979fc5496",
   "metadata": {},
   "outputs": [],
   "source": [
    "employee_data = {\n",
    "    'EmployeeID': [101, 102, 103, 104, 105, 106, 107, 108, 109, 110],\n",
    "    'Name': ['Alice', 'Bob', 'Charlie', 'David', 'Eve', 'Frank', 'Grace', 'Heidi', 'Ivan', 'Judy'],\n",
    "    'Age': [28, 34, 45, 38, np.nan, 50, 29, 31, 40, 60],\n",
    "    'Salary': [50000, 60000, -7000, 70000, 55000, 75000, 80000, np.nan, 62000, 65000],  # 异常值\n",
    "    'Department': ['HR', 'IT', 'Finance', 'Finance', 'IT', 'HR', 'HR', 'Finance', 'IT', 'HR'],\n",
    "    'Gender': ['F', 'M', 'M', 'M', 'F', 'M', 'F', 'F', 'M', 'F'],\n",
    "    'JoiningDate': ['2015-06-01', '2016-09-15', '2014-04-23', '2013-07-12', '2017-03-18', '2018-06-21', '2019-01-10', '2020-08-03', '2021-02-19', '2022-01-05']\n",
    "}"
   ]
  },
  {
   "cell_type": "code",
   "execution_count": 42,
   "id": "6cb2f796-994b-4564-b0f0-e79bb1e8f038",
   "metadata": {},
   "outputs": [],
   "source": [
    "employees = pd.DataFrame(employee_data)"
   ]
  },
  {
   "cell_type": "code",
   "execution_count": 43,
   "id": "83911ad8-b9c7-414d-b601-be2fdd0ce078",
   "metadata": {},
   "outputs": [
    {
     "data": {
      "text/html": [
       "<div>\n",
       "<style scoped>\n",
       "    .dataframe tbody tr th:only-of-type {\n",
       "        vertical-align: middle;\n",
       "    }\n",
       "\n",
       "    .dataframe tbody tr th {\n",
       "        vertical-align: top;\n",
       "    }\n",
       "\n",
       "    .dataframe thead th {\n",
       "        text-align: right;\n",
       "    }\n",
       "</style>\n",
       "<table border=\"1\" class=\"dataframe\">\n",
       "  <thead>\n",
       "    <tr style=\"text-align: right;\">\n",
       "      <th></th>\n",
       "      <th>EmployeeID</th>\n",
       "      <th>Name</th>\n",
       "      <th>Age</th>\n",
       "      <th>Salary</th>\n",
       "      <th>Department</th>\n",
       "      <th>Gender</th>\n",
       "      <th>JoiningDate</th>\n",
       "    </tr>\n",
       "  </thead>\n",
       "  <tbody>\n",
       "    <tr>\n",
       "      <th>0</th>\n",
       "      <td>101</td>\n",
       "      <td>Alice</td>\n",
       "      <td>28.0</td>\n",
       "      <td>50000.0</td>\n",
       "      <td>HR</td>\n",
       "      <td>F</td>\n",
       "      <td>2015-06-01</td>\n",
       "    </tr>\n",
       "    <tr>\n",
       "      <th>1</th>\n",
       "      <td>102</td>\n",
       "      <td>Bob</td>\n",
       "      <td>34.0</td>\n",
       "      <td>60000.0</td>\n",
       "      <td>IT</td>\n",
       "      <td>M</td>\n",
       "      <td>2016-09-15</td>\n",
       "    </tr>\n",
       "    <tr>\n",
       "      <th>2</th>\n",
       "      <td>103</td>\n",
       "      <td>Charlie</td>\n",
       "      <td>45.0</td>\n",
       "      <td>-7000.0</td>\n",
       "      <td>Finance</td>\n",
       "      <td>M</td>\n",
       "      <td>2014-04-23</td>\n",
       "    </tr>\n",
       "    <tr>\n",
       "      <th>3</th>\n",
       "      <td>104</td>\n",
       "      <td>David</td>\n",
       "      <td>38.0</td>\n",
       "      <td>70000.0</td>\n",
       "      <td>Finance</td>\n",
       "      <td>M</td>\n",
       "      <td>2013-07-12</td>\n",
       "    </tr>\n",
       "    <tr>\n",
       "      <th>4</th>\n",
       "      <td>105</td>\n",
       "      <td>Eve</td>\n",
       "      <td>NaN</td>\n",
       "      <td>55000.0</td>\n",
       "      <td>IT</td>\n",
       "      <td>F</td>\n",
       "      <td>2017-03-18</td>\n",
       "    </tr>\n",
       "    <tr>\n",
       "      <th>5</th>\n",
       "      <td>106</td>\n",
       "      <td>Frank</td>\n",
       "      <td>50.0</td>\n",
       "      <td>75000.0</td>\n",
       "      <td>HR</td>\n",
       "      <td>M</td>\n",
       "      <td>2018-06-21</td>\n",
       "    </tr>\n",
       "    <tr>\n",
       "      <th>6</th>\n",
       "      <td>107</td>\n",
       "      <td>Grace</td>\n",
       "      <td>29.0</td>\n",
       "      <td>80000.0</td>\n",
       "      <td>HR</td>\n",
       "      <td>F</td>\n",
       "      <td>2019-01-10</td>\n",
       "    </tr>\n",
       "    <tr>\n",
       "      <th>7</th>\n",
       "      <td>108</td>\n",
       "      <td>Heidi</td>\n",
       "      <td>31.0</td>\n",
       "      <td>NaN</td>\n",
       "      <td>Finance</td>\n",
       "      <td>F</td>\n",
       "      <td>2020-08-03</td>\n",
       "    </tr>\n",
       "    <tr>\n",
       "      <th>8</th>\n",
       "      <td>109</td>\n",
       "      <td>Ivan</td>\n",
       "      <td>40.0</td>\n",
       "      <td>62000.0</td>\n",
       "      <td>IT</td>\n",
       "      <td>M</td>\n",
       "      <td>2021-02-19</td>\n",
       "    </tr>\n",
       "    <tr>\n",
       "      <th>9</th>\n",
       "      <td>110</td>\n",
       "      <td>Judy</td>\n",
       "      <td>60.0</td>\n",
       "      <td>65000.0</td>\n",
       "      <td>HR</td>\n",
       "      <td>F</td>\n",
       "      <td>2022-01-05</td>\n",
       "    </tr>\n",
       "  </tbody>\n",
       "</table>\n",
       "</div>"
      ],
      "text/plain": [
       "   EmployeeID     Name   Age   Salary Department Gender JoiningDate\n",
       "0         101    Alice  28.0  50000.0         HR      F  2015-06-01\n",
       "1         102      Bob  34.0  60000.0         IT      M  2016-09-15\n",
       "2         103  Charlie  45.0  -7000.0    Finance      M  2014-04-23\n",
       "3         104    David  38.0  70000.0    Finance      M  2013-07-12\n",
       "4         105      Eve   NaN  55000.0         IT      F  2017-03-18\n",
       "5         106    Frank  50.0  75000.0         HR      M  2018-06-21\n",
       "6         107    Grace  29.0  80000.0         HR      F  2019-01-10\n",
       "7         108    Heidi  31.0      NaN    Finance      F  2020-08-03\n",
       "8         109     Ivan  40.0  62000.0         IT      M  2021-02-19\n",
       "9         110     Judy  60.0  65000.0         HR      F  2022-01-05"
      ]
     },
     "execution_count": 43,
     "metadata": {},
     "output_type": "execute_result"
    }
   ],
   "source": [
    "employees"
   ]
  },
  {
   "cell_type": "code",
   "execution_count": 44,
   "id": "b0960db9-5175-4538-8399-7fe64f414ba1",
   "metadata": {},
   "outputs": [
    {
     "data": {
      "text/plain": [
       "EmployeeID     0\n",
       "Name           0\n",
       "Age            1\n",
       "Salary         1\n",
       "Department     0\n",
       "Gender         0\n",
       "JoiningDate    0\n",
       "dtype: int64"
      ]
     },
     "execution_count": 44,
     "metadata": {},
     "output_type": "execute_result"
    }
   ],
   "source": [
    "employees.isna().sum()"
   ]
  },
  {
   "cell_type": "code",
   "execution_count": 45,
   "id": "118d8c04-a6db-4bdc-bcf1-d6becf37c175",
   "metadata": {},
   "outputs": [
    {
     "data": {
      "text/html": [
       "<div>\n",
       "<style scoped>\n",
       "    .dataframe tbody tr th:only-of-type {\n",
       "        vertical-align: middle;\n",
       "    }\n",
       "\n",
       "    .dataframe tbody tr th {\n",
       "        vertical-align: top;\n",
       "    }\n",
       "\n",
       "    .dataframe thead th {\n",
       "        text-align: right;\n",
       "    }\n",
       "</style>\n",
       "<table border=\"1\" class=\"dataframe\">\n",
       "  <thead>\n",
       "    <tr style=\"text-align: right;\">\n",
       "      <th></th>\n",
       "      <th>EmployeeID</th>\n",
       "      <th>Name</th>\n",
       "      <th>Age</th>\n",
       "      <th>Salary</th>\n",
       "      <th>JoiningDate</th>\n",
       "      <th>Gender_F</th>\n",
       "      <th>Gender_M</th>\n",
       "      <th>Department_Finance</th>\n",
       "      <th>Department_HR</th>\n",
       "      <th>Department_IT</th>\n",
       "    </tr>\n",
       "  </thead>\n",
       "  <tbody>\n",
       "    <tr>\n",
       "      <th>0</th>\n",
       "      <td>101</td>\n",
       "      <td>Alice</td>\n",
       "      <td>28.0</td>\n",
       "      <td>50000.0</td>\n",
       "      <td>2015-06-01</td>\n",
       "      <td>True</td>\n",
       "      <td>False</td>\n",
       "      <td>False</td>\n",
       "      <td>True</td>\n",
       "      <td>False</td>\n",
       "    </tr>\n",
       "    <tr>\n",
       "      <th>1</th>\n",
       "      <td>102</td>\n",
       "      <td>Bob</td>\n",
       "      <td>34.0</td>\n",
       "      <td>60000.0</td>\n",
       "      <td>2016-09-15</td>\n",
       "      <td>False</td>\n",
       "      <td>True</td>\n",
       "      <td>False</td>\n",
       "      <td>False</td>\n",
       "      <td>True</td>\n",
       "    </tr>\n",
       "    <tr>\n",
       "      <th>2</th>\n",
       "      <td>103</td>\n",
       "      <td>Charlie</td>\n",
       "      <td>45.0</td>\n",
       "      <td>-7000.0</td>\n",
       "      <td>2014-04-23</td>\n",
       "      <td>False</td>\n",
       "      <td>True</td>\n",
       "      <td>True</td>\n",
       "      <td>False</td>\n",
       "      <td>False</td>\n",
       "    </tr>\n",
       "    <tr>\n",
       "      <th>3</th>\n",
       "      <td>104</td>\n",
       "      <td>David</td>\n",
       "      <td>38.0</td>\n",
       "      <td>70000.0</td>\n",
       "      <td>2013-07-12</td>\n",
       "      <td>False</td>\n",
       "      <td>True</td>\n",
       "      <td>True</td>\n",
       "      <td>False</td>\n",
       "      <td>False</td>\n",
       "    </tr>\n",
       "    <tr>\n",
       "      <th>4</th>\n",
       "      <td>105</td>\n",
       "      <td>Eve</td>\n",
       "      <td>NaN</td>\n",
       "      <td>55000.0</td>\n",
       "      <td>2017-03-18</td>\n",
       "      <td>True</td>\n",
       "      <td>False</td>\n",
       "      <td>False</td>\n",
       "      <td>False</td>\n",
       "      <td>True</td>\n",
       "    </tr>\n",
       "    <tr>\n",
       "      <th>5</th>\n",
       "      <td>106</td>\n",
       "      <td>Frank</td>\n",
       "      <td>50.0</td>\n",
       "      <td>75000.0</td>\n",
       "      <td>2018-06-21</td>\n",
       "      <td>False</td>\n",
       "      <td>True</td>\n",
       "      <td>False</td>\n",
       "      <td>True</td>\n",
       "      <td>False</td>\n",
       "    </tr>\n",
       "    <tr>\n",
       "      <th>6</th>\n",
       "      <td>107</td>\n",
       "      <td>Grace</td>\n",
       "      <td>29.0</td>\n",
       "      <td>80000.0</td>\n",
       "      <td>2019-01-10</td>\n",
       "      <td>True</td>\n",
       "      <td>False</td>\n",
       "      <td>False</td>\n",
       "      <td>True</td>\n",
       "      <td>False</td>\n",
       "    </tr>\n",
       "    <tr>\n",
       "      <th>7</th>\n",
       "      <td>108</td>\n",
       "      <td>Heidi</td>\n",
       "      <td>31.0</td>\n",
       "      <td>NaN</td>\n",
       "      <td>2020-08-03</td>\n",
       "      <td>True</td>\n",
       "      <td>False</td>\n",
       "      <td>True</td>\n",
       "      <td>False</td>\n",
       "      <td>False</td>\n",
       "    </tr>\n",
       "    <tr>\n",
       "      <th>8</th>\n",
       "      <td>109</td>\n",
       "      <td>Ivan</td>\n",
       "      <td>40.0</td>\n",
       "      <td>62000.0</td>\n",
       "      <td>2021-02-19</td>\n",
       "      <td>False</td>\n",
       "      <td>True</td>\n",
       "      <td>False</td>\n",
       "      <td>False</td>\n",
       "      <td>True</td>\n",
       "    </tr>\n",
       "    <tr>\n",
       "      <th>9</th>\n",
       "      <td>110</td>\n",
       "      <td>Judy</td>\n",
       "      <td>60.0</td>\n",
       "      <td>65000.0</td>\n",
       "      <td>2022-01-05</td>\n",
       "      <td>True</td>\n",
       "      <td>False</td>\n",
       "      <td>False</td>\n",
       "      <td>True</td>\n",
       "      <td>False</td>\n",
       "    </tr>\n",
       "  </tbody>\n",
       "</table>\n",
       "</div>"
      ],
      "text/plain": [
       "   EmployeeID     Name   Age   Salary JoiningDate  Gender_F  Gender_M  \\\n",
       "0         101    Alice  28.0  50000.0  2015-06-01      True     False   \n",
       "1         102      Bob  34.0  60000.0  2016-09-15     False      True   \n",
       "2         103  Charlie  45.0  -7000.0  2014-04-23     False      True   \n",
       "3         104    David  38.0  70000.0  2013-07-12     False      True   \n",
       "4         105      Eve   NaN  55000.0  2017-03-18      True     False   \n",
       "5         106    Frank  50.0  75000.0  2018-06-21     False      True   \n",
       "6         107    Grace  29.0  80000.0  2019-01-10      True     False   \n",
       "7         108    Heidi  31.0      NaN  2020-08-03      True     False   \n",
       "8         109     Ivan  40.0  62000.0  2021-02-19     False      True   \n",
       "9         110     Judy  60.0  65000.0  2022-01-05      True     False   \n",
       "\n",
       "   Department_Finance  Department_HR  Department_IT  \n",
       "0               False           True          False  \n",
       "1               False          False           True  \n",
       "2                True          False          False  \n",
       "3                True          False          False  \n",
       "4               False          False           True  \n",
       "5               False           True          False  \n",
       "6               False           True          False  \n",
       "7                True          False          False  \n",
       "8               False          False           True  \n",
       "9               False           True          False  "
      ]
     },
     "execution_count": 45,
     "metadata": {},
     "output_type": "execute_result"
    }
   ],
   "source": [
    "gender_dummies = pd.get_dummies(employees, columns=['Gender','Department'])\n",
    "gender_dummies"
   ]
  },
  {
   "cell_type": "code",
   "execution_count": 46,
   "id": "639eb553-a7c1-492e-a1f6-f96988c69868",
   "metadata": {},
   "outputs": [],
   "source": [
    "age_mean_value = employees['Age'].mean()\n",
    "employees['Age'] = employees['Age'].fillna(value=age_mean_value).round(2)"
   ]
  },
  {
   "cell_type": "code",
   "execution_count": 47,
   "id": "1f2fc696-9039-40d1-8c85-d9194bc2a56a",
   "metadata": {},
   "outputs": [
    {
     "data": {
      "text/html": [
       "<div>\n",
       "<style scoped>\n",
       "    .dataframe tbody tr th:only-of-type {\n",
       "        vertical-align: middle;\n",
       "    }\n",
       "\n",
       "    .dataframe tbody tr th {\n",
       "        vertical-align: top;\n",
       "    }\n",
       "\n",
       "    .dataframe thead th {\n",
       "        text-align: right;\n",
       "    }\n",
       "</style>\n",
       "<table border=\"1\" class=\"dataframe\">\n",
       "  <thead>\n",
       "    <tr style=\"text-align: right;\">\n",
       "      <th></th>\n",
       "      <th>EmployeeID</th>\n",
       "      <th>Name</th>\n",
       "      <th>Age</th>\n",
       "      <th>Salary</th>\n",
       "      <th>Department</th>\n",
       "      <th>Gender</th>\n",
       "      <th>JoiningDate</th>\n",
       "    </tr>\n",
       "  </thead>\n",
       "  <tbody>\n",
       "    <tr>\n",
       "      <th>0</th>\n",
       "      <td>101</td>\n",
       "      <td>Alice</td>\n",
       "      <td>28.00</td>\n",
       "      <td>50000.0</td>\n",
       "      <td>HR</td>\n",
       "      <td>F</td>\n",
       "      <td>2015-06-01</td>\n",
       "    </tr>\n",
       "    <tr>\n",
       "      <th>1</th>\n",
       "      <td>102</td>\n",
       "      <td>Bob</td>\n",
       "      <td>34.00</td>\n",
       "      <td>60000.0</td>\n",
       "      <td>IT</td>\n",
       "      <td>M</td>\n",
       "      <td>2016-09-15</td>\n",
       "    </tr>\n",
       "    <tr>\n",
       "      <th>2</th>\n",
       "      <td>103</td>\n",
       "      <td>Charlie</td>\n",
       "      <td>45.00</td>\n",
       "      <td>63500.0</td>\n",
       "      <td>Finance</td>\n",
       "      <td>M</td>\n",
       "      <td>2014-04-23</td>\n",
       "    </tr>\n",
       "    <tr>\n",
       "      <th>3</th>\n",
       "      <td>104</td>\n",
       "      <td>David</td>\n",
       "      <td>38.00</td>\n",
       "      <td>70000.0</td>\n",
       "      <td>Finance</td>\n",
       "      <td>M</td>\n",
       "      <td>2013-07-12</td>\n",
       "    </tr>\n",
       "    <tr>\n",
       "      <th>4</th>\n",
       "      <td>105</td>\n",
       "      <td>Eve</td>\n",
       "      <td>39.44</td>\n",
       "      <td>55000.0</td>\n",
       "      <td>IT</td>\n",
       "      <td>F</td>\n",
       "      <td>2017-03-18</td>\n",
       "    </tr>\n",
       "    <tr>\n",
       "      <th>5</th>\n",
       "      <td>106</td>\n",
       "      <td>Frank</td>\n",
       "      <td>50.00</td>\n",
       "      <td>75000.0</td>\n",
       "      <td>HR</td>\n",
       "      <td>M</td>\n",
       "      <td>2018-06-21</td>\n",
       "    </tr>\n",
       "    <tr>\n",
       "      <th>6</th>\n",
       "      <td>107</td>\n",
       "      <td>Grace</td>\n",
       "      <td>29.00</td>\n",
       "      <td>80000.0</td>\n",
       "      <td>HR</td>\n",
       "      <td>F</td>\n",
       "      <td>2019-01-10</td>\n",
       "    </tr>\n",
       "    <tr>\n",
       "      <th>7</th>\n",
       "      <td>108</td>\n",
       "      <td>Heidi</td>\n",
       "      <td>31.00</td>\n",
       "      <td>63500.0</td>\n",
       "      <td>Finance</td>\n",
       "      <td>F</td>\n",
       "      <td>2020-08-03</td>\n",
       "    </tr>\n",
       "    <tr>\n",
       "      <th>8</th>\n",
       "      <td>109</td>\n",
       "      <td>Ivan</td>\n",
       "      <td>40.00</td>\n",
       "      <td>62000.0</td>\n",
       "      <td>IT</td>\n",
       "      <td>M</td>\n",
       "      <td>2021-02-19</td>\n",
       "    </tr>\n",
       "    <tr>\n",
       "      <th>9</th>\n",
       "      <td>110</td>\n",
       "      <td>Judy</td>\n",
       "      <td>60.00</td>\n",
       "      <td>65000.0</td>\n",
       "      <td>HR</td>\n",
       "      <td>F</td>\n",
       "      <td>2022-01-05</td>\n",
       "    </tr>\n",
       "  </tbody>\n",
       "</table>\n",
       "</div>"
      ],
      "text/plain": [
       "   EmployeeID     Name    Age   Salary Department Gender JoiningDate\n",
       "0         101    Alice  28.00  50000.0         HR      F  2015-06-01\n",
       "1         102      Bob  34.00  60000.0         IT      M  2016-09-15\n",
       "2         103  Charlie  45.00  63500.0    Finance      M  2014-04-23\n",
       "3         104    David  38.00  70000.0    Finance      M  2013-07-12\n",
       "4         105      Eve  39.44  55000.0         IT      F  2017-03-18\n",
       "5         106    Frank  50.00  75000.0         HR      M  2018-06-21\n",
       "6         107    Grace  29.00  80000.0         HR      F  2019-01-10\n",
       "7         108    Heidi  31.00  63500.0    Finance      F  2020-08-03\n",
       "8         109     Ivan  40.00  62000.0         IT      M  2021-02-19\n",
       "9         110     Judy  60.00  65000.0         HR      F  2022-01-05"
      ]
     },
     "execution_count": 47,
     "metadata": {},
     "output_type": "execute_result"
    }
   ],
   "source": [
    "salary_median_value = employees[employees['Salary']>=0]['Salary'].median()\n",
    "employees['Salary'] = employees['Salary'].fillna(value=salary_median_value)\n",
    "employees['Salary'] = employees['Salary'].apply(lambda x:salary_median_value if x<=0 else x)\n",
    "employees"
   ]
  },
  {
   "cell_type": "code",
   "execution_count": 48,
   "id": "76fbce36-cfd1-4fc3-aa16-88e945483389",
   "metadata": {},
   "outputs": [
    {
     "data": {
      "text/html": [
       "<div>\n",
       "<style scoped>\n",
       "    .dataframe tbody tr th:only-of-type {\n",
       "        vertical-align: middle;\n",
       "    }\n",
       "\n",
       "    .dataframe tbody tr th {\n",
       "        vertical-align: top;\n",
       "    }\n",
       "\n",
       "    .dataframe thead th {\n",
       "        text-align: right;\n",
       "    }\n",
       "</style>\n",
       "<table border=\"1\" class=\"dataframe\">\n",
       "  <thead>\n",
       "    <tr style=\"text-align: right;\">\n",
       "      <th></th>\n",
       "      <th>EmployeeID</th>\n",
       "      <th>Name</th>\n",
       "      <th>Age</th>\n",
       "      <th>Salary</th>\n",
       "      <th>Department</th>\n",
       "      <th>Gender</th>\n",
       "      <th>JoiningDate</th>\n",
       "    </tr>\n",
       "  </thead>\n",
       "  <tbody>\n",
       "    <tr>\n",
       "      <th>0</th>\n",
       "      <td>101</td>\n",
       "      <td>Alice</td>\n",
       "      <td>28.00</td>\n",
       "      <td>50000.0</td>\n",
       "      <td>HR</td>\n",
       "      <td>F</td>\n",
       "      <td>2015-06-01</td>\n",
       "    </tr>\n",
       "    <tr>\n",
       "      <th>1</th>\n",
       "      <td>102</td>\n",
       "      <td>Bob</td>\n",
       "      <td>34.00</td>\n",
       "      <td>60000.0</td>\n",
       "      <td>IT</td>\n",
       "      <td>M</td>\n",
       "      <td>2016-09-15</td>\n",
       "    </tr>\n",
       "    <tr>\n",
       "      <th>2</th>\n",
       "      <td>103</td>\n",
       "      <td>Charlie</td>\n",
       "      <td>45.00</td>\n",
       "      <td>63500.0</td>\n",
       "      <td>Finance</td>\n",
       "      <td>M</td>\n",
       "      <td>2014-04-23</td>\n",
       "    </tr>\n",
       "    <tr>\n",
       "      <th>3</th>\n",
       "      <td>104</td>\n",
       "      <td>David</td>\n",
       "      <td>38.00</td>\n",
       "      <td>70000.0</td>\n",
       "      <td>Finance</td>\n",
       "      <td>M</td>\n",
       "      <td>2013-07-12</td>\n",
       "    </tr>\n",
       "    <tr>\n",
       "      <th>4</th>\n",
       "      <td>105</td>\n",
       "      <td>Eve</td>\n",
       "      <td>39.44</td>\n",
       "      <td>55000.0</td>\n",
       "      <td>IT</td>\n",
       "      <td>F</td>\n",
       "      <td>2017-03-18</td>\n",
       "    </tr>\n",
       "    <tr>\n",
       "      <th>5</th>\n",
       "      <td>106</td>\n",
       "      <td>Frank</td>\n",
       "      <td>50.00</td>\n",
       "      <td>75000.0</td>\n",
       "      <td>HR</td>\n",
       "      <td>M</td>\n",
       "      <td>2018-06-21</td>\n",
       "    </tr>\n",
       "    <tr>\n",
       "      <th>6</th>\n",
       "      <td>107</td>\n",
       "      <td>Grace</td>\n",
       "      <td>29.00</td>\n",
       "      <td>80000.0</td>\n",
       "      <td>HR</td>\n",
       "      <td>F</td>\n",
       "      <td>2019-01-10</td>\n",
       "    </tr>\n",
       "    <tr>\n",
       "      <th>7</th>\n",
       "      <td>108</td>\n",
       "      <td>Heidi</td>\n",
       "      <td>31.00</td>\n",
       "      <td>63500.0</td>\n",
       "      <td>Finance</td>\n",
       "      <td>F</td>\n",
       "      <td>2020-08-03</td>\n",
       "    </tr>\n",
       "    <tr>\n",
       "      <th>8</th>\n",
       "      <td>109</td>\n",
       "      <td>Ivan</td>\n",
       "      <td>40.00</td>\n",
       "      <td>62000.0</td>\n",
       "      <td>IT</td>\n",
       "      <td>M</td>\n",
       "      <td>2021-02-19</td>\n",
       "    </tr>\n",
       "    <tr>\n",
       "      <th>9</th>\n",
       "      <td>110</td>\n",
       "      <td>Judy</td>\n",
       "      <td>60.00</td>\n",
       "      <td>65000.0</td>\n",
       "      <td>HR</td>\n",
       "      <td>F</td>\n",
       "      <td>2022-01-05</td>\n",
       "    </tr>\n",
       "  </tbody>\n",
       "</table>\n",
       "</div>"
      ],
      "text/plain": [
       "   EmployeeID     Name    Age   Salary Department Gender JoiningDate\n",
       "0         101    Alice  28.00  50000.0         HR      F  2015-06-01\n",
       "1         102      Bob  34.00  60000.0         IT      M  2016-09-15\n",
       "2         103  Charlie  45.00  63500.0    Finance      M  2014-04-23\n",
       "3         104    David  38.00  70000.0    Finance      M  2013-07-12\n",
       "4         105      Eve  39.44  55000.0         IT      F  2017-03-18\n",
       "5         106    Frank  50.00  75000.0         HR      M  2018-06-21\n",
       "6         107    Grace  29.00  80000.0         HR      F  2019-01-10\n",
       "7         108    Heidi  31.00  63500.0    Finance      F  2020-08-03\n",
       "8         109     Ivan  40.00  62000.0         IT      M  2021-02-19\n",
       "9         110     Judy  60.00  65000.0         HR      F  2022-01-05"
      ]
     },
     "execution_count": 48,
     "metadata": {},
     "output_type": "execute_result"
    }
   ],
   "source": [
    "employees['JoiningDate'] = pd.to_datetime(employees['JoiningDate'])\n",
    "employees"
   ]
  },
  {
   "cell_type": "code",
   "execution_count": 49,
   "id": "5799fb65-ae40-455a-98ef-3e2769fef54b",
   "metadata": {},
   "outputs": [],
   "source": [
    "import matplotlib.pyplot as plt"
   ]
  },
  {
   "cell_type": "code",
   "execution_count": 50,
   "id": "6493d537-a990-41de-955b-9e9e35bef80e",
   "metadata": {},
   "outputs": [
    {
     "data": {
      "text/plain": [
       "Department\n",
       "Finance    65666.666667\n",
       "HR         67500.000000\n",
       "IT         59000.000000\n",
       "Name: Salary, dtype: float64"
      ]
     },
     "execution_count": 50,
     "metadata": {},
     "output_type": "execute_result"
    }
   ],
   "source": [
    "salary_col = employees['Salary']\n",
    "agg_salary = salary_col.groupby(employees['Department']).mean()\n",
    "agg_salary"
   ]
  },
  {
   "cell_type": "code",
   "execution_count": 51,
   "id": "512721f4-a5ad-4ab6-bb59-ac1be338934b",
   "metadata": {},
   "outputs": [
    {
     "data": {
      "image/png": "[encoded data removed]",
      "text/plain": [
       "<Figure size 640x480 with 1 Axes>"
      ]
     },
     "metadata": {},
     "output_type": "display_data"
    }
   ],
   "source": [
    "agg_salary.plot(kind='bar', x='Deprtment', y='Salary')\n",
    "xlabel = \"Age\"\n",
    "ylabel = \"agg_salary\""
   ]
  },
  {
   "cell_type": "code",
   "execution_count": 52,
   "id": "9d5a723c-d0d4-4218-afd9-32a530d0de14",
   "metadata": {},
   "outputs": [
    {
     "data": {
      "text/html": [
       "<div>\n",
       "<style scoped>\n",
       "    .dataframe tbody tr th:only-of-type {\n",
       "        vertical-align: middle;\n",
       "    }\n",
       "\n",
       "    .dataframe tbody tr th {\n",
       "        vertical-align: top;\n",
       "    }\n",
       "\n",
       "    .dataframe thead th {\n",
       "        text-align: right;\n",
       "    }\n",
       "</style>\n",
       "<table border=\"1\" class=\"dataframe\">\n",
       "  <thead>\n",
       "    <tr style=\"text-align: right;\">\n",
       "      <th></th>\n",
       "      <th>EmployeeID</th>\n",
       "      <th>Name</th>\n",
       "      <th>Age</th>\n",
       "      <th>Salary</th>\n",
       "      <th>Department</th>\n",
       "      <th>Gender</th>\n",
       "      <th>JoiningDate</th>\n",
       "    </tr>\n",
       "  </thead>\n",
       "  <tbody>\n",
       "    <tr>\n",
       "      <th>0</th>\n",
       "      <td>101</td>\n",
       "      <td>Alice</td>\n",
       "      <td>28.00</td>\n",
       "      <td>50000.0</td>\n",
       "      <td>HR</td>\n",
       "      <td>F</td>\n",
       "      <td>2015-06-01</td>\n",
       "    </tr>\n",
       "    <tr>\n",
       "      <th>1</th>\n",
       "      <td>102</td>\n",
       "      <td>Bob</td>\n",
       "      <td>34.00</td>\n",
       "      <td>60000.0</td>\n",
       "      <td>IT</td>\n",
       "      <td>M</td>\n",
       "      <td>2016-09-15</td>\n",
       "    </tr>\n",
       "    <tr>\n",
       "      <th>2</th>\n",
       "      <td>103</td>\n",
       "      <td>Charlie</td>\n",
       "      <td>45.00</td>\n",
       "      <td>63500.0</td>\n",
       "      <td>Finance</td>\n",
       "      <td>M</td>\n",
       "      <td>2014-04-23</td>\n",
       "    </tr>\n",
       "    <tr>\n",
       "      <th>3</th>\n",
       "      <td>104</td>\n",
       "      <td>David</td>\n",
       "      <td>38.00</td>\n",
       "      <td>70000.0</td>\n",
       "      <td>Finance</td>\n",
       "      <td>M</td>\n",
       "      <td>2013-07-12</td>\n",
       "    </tr>\n",
       "    <tr>\n",
       "      <th>4</th>\n",
       "      <td>105</td>\n",
       "      <td>Eve</td>\n",
       "      <td>39.44</td>\n",
       "      <td>55000.0</td>\n",
       "      <td>IT</td>\n",
       "      <td>F</td>\n",
       "      <td>2017-03-18</td>\n",
       "    </tr>\n",
       "    <tr>\n",
       "      <th>5</th>\n",
       "      <td>106</td>\n",
       "      <td>Frank</td>\n",
       "      <td>50.00</td>\n",
       "      <td>75000.0</td>\n",
       "      <td>HR</td>\n",
       "      <td>M</td>\n",
       "      <td>2018-06-21</td>\n",
       "    </tr>\n",
       "    <tr>\n",
       "      <th>6</th>\n",
       "      <td>107</td>\n",
       "      <td>Grace</td>\n",
       "      <td>29.00</td>\n",
       "      <td>80000.0</td>\n",
       "      <td>HR</td>\n",
       "      <td>F</td>\n",
       "      <td>2019-01-10</td>\n",
       "    </tr>\n",
       "    <tr>\n",
       "      <th>7</th>\n",
       "      <td>108</td>\n",
       "      <td>Heidi</td>\n",
       "      <td>31.00</td>\n",
       "      <td>63500.0</td>\n",
       "      <td>Finance</td>\n",
       "      <td>F</td>\n",
       "      <td>2020-08-03</td>\n",
       "    </tr>\n",
       "    <tr>\n",
       "      <th>8</th>\n",
       "      <td>109</td>\n",
       "      <td>Ivan</td>\n",
       "      <td>40.00</td>\n",
       "      <td>62000.0</td>\n",
       "      <td>IT</td>\n",
       "      <td>M</td>\n",
       "      <td>2021-02-19</td>\n",
       "    </tr>\n",
       "    <tr>\n",
       "      <th>9</th>\n",
       "      <td>110</td>\n",
       "      <td>Judy</td>\n",
       "      <td>60.00</td>\n",
       "      <td>65000.0</td>\n",
       "      <td>HR</td>\n",
       "      <td>F</td>\n",
       "      <td>2022-01-05</td>\n",
       "    </tr>\n",
       "  </tbody>\n",
       "</table>\n",
       "</div>"
      ],
      "text/plain": [
       "   EmployeeID     Name    Age   Salary Department Gender JoiningDate\n",
       "0         101    Alice  28.00  50000.0         HR      F  2015-06-01\n",
       "1         102      Bob  34.00  60000.0         IT      M  2016-09-15\n",
       "2         103  Charlie  45.00  63500.0    Finance      M  2014-04-23\n",
       "3         104    David  38.00  70000.0    Finance      M  2013-07-12\n",
       "4         105      Eve  39.44  55000.0         IT      F  2017-03-18\n",
       "5         106    Frank  50.00  75000.0         HR      M  2018-06-21\n",
       "6         107    Grace  29.00  80000.0         HR      F  2019-01-10\n",
       "7         108    Heidi  31.00  63500.0    Finance      F  2020-08-03\n",
       "8         109     Ivan  40.00  62000.0         IT      M  2021-02-19\n",
       "9         110     Judy  60.00  65000.0         HR      F  2022-01-05"
      ]
     },
     "execution_count": 52,
     "metadata": {},
     "output_type": "execute_result"
    }
   ],
   "source": [
    "employees = employees.drop_duplicates(subset=['EmployeeID','Name'], keep='last', inplace=False)\n",
    "employees"
   ]
  },
  {
   "cell_type": "code",
   "execution_count": 53,
   "id": "6f308fe9-1a94-4d50-a6af-27496525bc95",
   "metadata": {},
   "outputs": [
    {
     "data": {
      "text/plain": [
       "Gender\n",
       "F    62700.0\n",
       "M    66100.0\n",
       "Name: Salary, dtype: float64"
      ]
     },
     "execution_count": 53,
     "metadata": {},
     "output_type": "execute_result"
    }
   ],
   "source": [
    "agg_sex = salary_col.groupby(employees['Gender']).mean()\n",
    "agg_sex"
   ]
  },
  {
   "cell_type": "code",
   "execution_count": 54,
   "id": "547c11b7-dd02-4363-812d-c13f7de965ef",
   "metadata": {},
   "outputs": [
    {
     "data": {
      "text/plain": [
       "<Axes: xlabel='Salary', ylabel='Age'>"
      ]
     },
     "execution_count": 54,
     "metadata": {},
     "output_type": "execute_result"
    },
    {
     "data": {
      "image/png": "[encoded data removed]",
      "text/plain": [
       "<Figure size 640x480 with 1 Axes>"
      ]
     },
     "metadata": {},
     "output_type": "display_data"
    }
   ],
   "source": [
    "employees.plot(kind='scatter', x='Salary', y='Age')"
   ]
  },
  {
   "cell_type": "code",
   "execution_count": null,
   "id": "9b53e5b9-03bc-44a1-af91-6dce7f991a73",
   "metadata": {},
   "outputs": [],
   "source": []
  }
 ],
 "metadata": {
  "kernelspec": {
   "display_name": "Python 3",
   "language": "python",
   "name": "python3"
  },
  "language_info": {
   "codemirror_mode": {
    "name": "ipython",
    "version": 3
   },
   "file_extension": ".py",
   "mimetype": "text/x-python",
   "name": "python",
   "nbconvert_exporter": "python",
   "pygments_lexer": "ipython3",
   "version": "3.12.4"
  }
 },
 "nbformat": 4,
 "nbformat_minor": 5
}
